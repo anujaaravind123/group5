{
 "cells": [
  {
   "cell_type": "markdown",
   "id": "3f9995d6",
   "metadata": {},
   "source": [
    "# Problem Statement"
   ]
  },
  {
   "cell_type": "markdown",
   "id": "7574f696",
   "metadata": {},
   "source": [
    "ABC is an online content sharing platform that enables users to create, upload and share the content in the form of videos. It includes videos from different genres like entertainment, education, sports, technology and so on. The maximum duration of video is 10 minutes.\n",
    "\n",
    "Users can like, comment and share the videos on the platform. \n",
    "\n",
    "Based on the user’s interaction with the videos, engagement score is assigned to the video with respect to each user. Engagement score defines how engaging the content of the video is. \n",
    "\n",
    "Understanding the engagement score of the video improves the user’s interaction with the platform. It defines the type of content that is appealing to the user and engages the larger audience."
   ]
  },
  {
   "cell_type": "markdown",
   "id": "8f0d615d",
   "metadata": {},
   "source": [
    "# Steps involved"
   ]
  },
  {
   "cell_type": "markdown",
   "id": "15c805e3",
   "metadata": {},
   "source": [
    "Imported Libraies\n",
    "Preprocessing\n",
    "Feature Engineering\n",
    "    #missing value handling\n",
    "    #Feature reduction\n",
    "    #label Encoding\n",
    "model Building"
   ]
  },
  {
   "cell_type": "markdown",
   "id": "72c9f256",
   "metadata": {},
   "source": [
    "# Importing important Libraries"
   ]
  },
  {
   "cell_type": "code",
   "execution_count": 1,
   "id": "48915a78",
   "metadata": {},
   "outputs": [],
   "source": [
    "import pandas as pd\n",
    "import numpy as np\n",
    "import matplotlib.pyplot as plt\n",
    "import seaborn as sns\n",
    "import warnings\n",
    "warnings.filterwarnings('ignore')"
   ]
  },
  {
   "cell_type": "markdown",
   "id": "9f5b0ab4",
   "metadata": {},
   "source": [
    "# Reading dataset"
   ]
  },
  {
   "cell_type": "code",
   "execution_count": 2,
   "id": "45cfc956",
   "metadata": {},
   "outputs": [],
   "source": [
    "test=pd.read_csv(r'C:\\Users\\HP\\Downloads\\test_1zqHu22.csv')\n",
    "train=pd.read_csv(r'C:\\Users\\HP\\Downloads\\train_0OECtn8.csv')"
   ]
  },
  {
   "cell_type": "code",
   "execution_count": 3,
   "id": "d828e9e1",
   "metadata": {},
   "outputs": [
    {
     "data": {
      "text/html": [
       "<div>\n",
       "<style scoped>\n",
       "    .dataframe tbody tr th:only-of-type {\n",
       "        vertical-align: middle;\n",
       "    }\n",
       "\n",
       "    .dataframe tbody tr th {\n",
       "        vertical-align: top;\n",
       "    }\n",
       "\n",
       "    .dataframe thead th {\n",
       "        text-align: right;\n",
       "    }\n",
       "</style>\n",
       "<table border=\"1\" class=\"dataframe\">\n",
       "  <thead>\n",
       "    <tr style=\"text-align: right;\">\n",
       "      <th></th>\n",
       "      <th>row_id</th>\n",
       "      <th>user_id</th>\n",
       "      <th>category_id</th>\n",
       "      <th>video_id</th>\n",
       "      <th>age</th>\n",
       "      <th>gender</th>\n",
       "      <th>profession</th>\n",
       "      <th>followers</th>\n",
       "      <th>views</th>\n",
       "    </tr>\n",
       "  </thead>\n",
       "  <tbody>\n",
       "    <tr>\n",
       "      <th>0</th>\n",
       "      <td>89198</td>\n",
       "      <td>7986</td>\n",
       "      <td>12</td>\n",
       "      <td>42</td>\n",
       "      <td>14</td>\n",
       "      <td>Male</td>\n",
       "      <td>Student</td>\n",
       "      <td>180</td>\n",
       "      <td>138</td>\n",
       "    </tr>\n",
       "    <tr>\n",
       "      <th>1</th>\n",
       "      <td>89199</td>\n",
       "      <td>11278</td>\n",
       "      <td>34</td>\n",
       "      <td>115</td>\n",
       "      <td>14</td>\n",
       "      <td>Male</td>\n",
       "      <td>Student</td>\n",
       "      <td>230</td>\n",
       "      <td>840</td>\n",
       "    </tr>\n",
       "    <tr>\n",
       "      <th>2</th>\n",
       "      <td>89200</td>\n",
       "      <td>17245</td>\n",
       "      <td>8</td>\n",
       "      <td>110</td>\n",
       "      <td>44</td>\n",
       "      <td>Female</td>\n",
       "      <td>Working Professional</td>\n",
       "      <td>280</td>\n",
       "      <td>628</td>\n",
       "    </tr>\n",
       "    <tr>\n",
       "      <th>3</th>\n",
       "      <td>89201</td>\n",
       "      <td>9851</td>\n",
       "      <td>16</td>\n",
       "      <td>137</td>\n",
       "      <td>18</td>\n",
       "      <td>Male</td>\n",
       "      <td>Student</td>\n",
       "      <td>270</td>\n",
       "      <td>462</td>\n",
       "    </tr>\n",
       "    <tr>\n",
       "      <th>4</th>\n",
       "      <td>89202</td>\n",
       "      <td>16008</td>\n",
       "      <td>34</td>\n",
       "      <td>96</td>\n",
       "      <td>47</td>\n",
       "      <td>Female</td>\n",
       "      <td>Other</td>\n",
       "      <td>230</td>\n",
       "      <td>840</td>\n",
       "    </tr>\n",
       "  </tbody>\n",
       "</table>\n",
       "</div>"
      ],
      "text/plain": [
       "   row_id  user_id  category_id  video_id  age  gender            profession  \\\n",
       "0   89198     7986           12        42   14    Male               Student   \n",
       "1   89199    11278           34       115   14    Male               Student   \n",
       "2   89200    17245            8       110   44  Female  Working Professional   \n",
       "3   89201     9851           16       137   18    Male               Student   \n",
       "4   89202    16008           34        96   47  Female                 Other   \n",
       "\n",
       "   followers  views  \n",
       "0        180    138  \n",
       "1        230    840  \n",
       "2        280    628  \n",
       "3        270    462  \n",
       "4        230    840  "
      ]
     },
     "execution_count": 3,
     "metadata": {},
     "output_type": "execute_result"
    }
   ],
   "source": [
    "#checking wheather both are correctly printed\n",
    "test.head()"
   ]
  },
  {
   "cell_type": "code",
   "execution_count": 4,
   "id": "5c11cbe0",
   "metadata": {},
   "outputs": [
    {
     "data": {
      "text/html": [
       "<div>\n",
       "<style scoped>\n",
       "    .dataframe tbody tr th:only-of-type {\n",
       "        vertical-align: middle;\n",
       "    }\n",
       "\n",
       "    .dataframe tbody tr th {\n",
       "        vertical-align: top;\n",
       "    }\n",
       "\n",
       "    .dataframe thead th {\n",
       "        text-align: right;\n",
       "    }\n",
       "</style>\n",
       "<table border=\"1\" class=\"dataframe\">\n",
       "  <thead>\n",
       "    <tr style=\"text-align: right;\">\n",
       "      <th></th>\n",
       "      <th>row_id</th>\n",
       "      <th>user_id</th>\n",
       "      <th>category_id</th>\n",
       "      <th>video_id</th>\n",
       "      <th>age</th>\n",
       "      <th>gender</th>\n",
       "      <th>profession</th>\n",
       "      <th>followers</th>\n",
       "      <th>views</th>\n",
       "      <th>engagement_score</th>\n",
       "    </tr>\n",
       "  </thead>\n",
       "  <tbody>\n",
       "    <tr>\n",
       "      <th>0</th>\n",
       "      <td>1</td>\n",
       "      <td>19990</td>\n",
       "      <td>37</td>\n",
       "      <td>128</td>\n",
       "      <td>24</td>\n",
       "      <td>Male</td>\n",
       "      <td>Student</td>\n",
       "      <td>180</td>\n",
       "      <td>1000</td>\n",
       "      <td>4.33</td>\n",
       "    </tr>\n",
       "    <tr>\n",
       "      <th>1</th>\n",
       "      <td>2</td>\n",
       "      <td>5304</td>\n",
       "      <td>32</td>\n",
       "      <td>132</td>\n",
       "      <td>14</td>\n",
       "      <td>Female</td>\n",
       "      <td>Student</td>\n",
       "      <td>330</td>\n",
       "      <td>714</td>\n",
       "      <td>1.79</td>\n",
       "    </tr>\n",
       "    <tr>\n",
       "      <th>2</th>\n",
       "      <td>3</td>\n",
       "      <td>1840</td>\n",
       "      <td>12</td>\n",
       "      <td>24</td>\n",
       "      <td>19</td>\n",
       "      <td>Male</td>\n",
       "      <td>Student</td>\n",
       "      <td>180</td>\n",
       "      <td>138</td>\n",
       "      <td>4.35</td>\n",
       "    </tr>\n",
       "    <tr>\n",
       "      <th>3</th>\n",
       "      <td>4</td>\n",
       "      <td>12597</td>\n",
       "      <td>23</td>\n",
       "      <td>112</td>\n",
       "      <td>19</td>\n",
       "      <td>Male</td>\n",
       "      <td>Student</td>\n",
       "      <td>220</td>\n",
       "      <td>613</td>\n",
       "      <td>3.77</td>\n",
       "    </tr>\n",
       "    <tr>\n",
       "      <th>4</th>\n",
       "      <td>5</td>\n",
       "      <td>13626</td>\n",
       "      <td>23</td>\n",
       "      <td>112</td>\n",
       "      <td>27</td>\n",
       "      <td>Male</td>\n",
       "      <td>Working Professional</td>\n",
       "      <td>220</td>\n",
       "      <td>613</td>\n",
       "      <td>3.13</td>\n",
       "    </tr>\n",
       "  </tbody>\n",
       "</table>\n",
       "</div>"
      ],
      "text/plain": [
       "   row_id  user_id  category_id  video_id  age  gender            profession  \\\n",
       "0       1    19990           37       128   24    Male               Student   \n",
       "1       2     5304           32       132   14  Female               Student   \n",
       "2       3     1840           12        24   19    Male               Student   \n",
       "3       4    12597           23       112   19    Male               Student   \n",
       "4       5    13626           23       112   27    Male  Working Professional   \n",
       "\n",
       "   followers  views  engagement_score  \n",
       "0        180   1000              4.33  \n",
       "1        330    714              1.79  \n",
       "2        180    138              4.35  \n",
       "3        220    613              3.77  \n",
       "4        220    613              3.13  "
      ]
     },
     "execution_count": 4,
     "metadata": {},
     "output_type": "execute_result"
    }
   ],
   "source": [
    "train.head()"
   ]
  },
  {
   "cell_type": "code",
   "execution_count": 5,
   "id": "c698118d",
   "metadata": {},
   "outputs": [
    {
     "data": {
      "text/plain": [
       "row_id         0\n",
       "user_id        0\n",
       "category_id    0\n",
       "video_id       0\n",
       "age            0\n",
       "gender         0\n",
       "profession     0\n",
       "followers      0\n",
       "views          0\n",
       "dtype: int64"
      ]
     },
     "execution_count": 5,
     "metadata": {},
     "output_type": "execute_result"
    }
   ],
   "source": [
    "#checking for Null values\n",
    "test.isna().sum()"
   ]
  },
  {
   "cell_type": "markdown",
   "id": "71cc2e69",
   "metadata": {},
   "source": [
    "There is no null values in test Dataset"
   ]
  },
  {
   "cell_type": "code",
   "execution_count": 6,
   "id": "60ced488",
   "metadata": {},
   "outputs": [
    {
     "data": {
      "text/plain": [
       "row_id              0\n",
       "user_id             0\n",
       "category_id         0\n",
       "video_id            0\n",
       "age                 0\n",
       "gender              0\n",
       "profession          0\n",
       "followers           0\n",
       "views               0\n",
       "engagement_score    0\n",
       "dtype: int64"
      ]
     },
     "execution_count": 6,
     "metadata": {},
     "output_type": "execute_result"
    }
   ],
   "source": [
    "train.isna().sum()"
   ]
  },
  {
   "cell_type": "markdown",
   "id": "db2ddce3",
   "metadata": {},
   "source": [
    "There is no null values in train dataset."
   ]
  },
  {
   "cell_type": "code",
   "execution_count": 7,
   "id": "1ae866f4",
   "metadata": {},
   "outputs": [
    {
     "name": "stdout",
     "output_type": "stream",
     "text": [
      "<class 'pandas.core.frame.DataFrame'>\n",
      "RangeIndex: 11121 entries, 0 to 11120\n",
      "Data columns (total 9 columns):\n",
      " #   Column       Non-Null Count  Dtype \n",
      "---  ------       --------------  ----- \n",
      " 0   row_id       11121 non-null  int64 \n",
      " 1   user_id      11121 non-null  int64 \n",
      " 2   category_id  11121 non-null  int64 \n",
      " 3   video_id     11121 non-null  int64 \n",
      " 4   age          11121 non-null  int64 \n",
      " 5   gender       11121 non-null  object\n",
      " 6   profession   11121 non-null  object\n",
      " 7   followers    11121 non-null  int64 \n",
      " 8   views        11121 non-null  int64 \n",
      "dtypes: int64(7), object(2)\n",
      "memory usage: 782.1+ KB\n"
     ]
    }
   ],
   "source": [
    "#finding main Information about dataset\n",
    "test.info()"
   ]
  },
  {
   "cell_type": "code",
   "execution_count": 8,
   "id": "68235529",
   "metadata": {},
   "outputs": [
    {
     "name": "stdout",
     "output_type": "stream",
     "text": [
      "<class 'pandas.core.frame.DataFrame'>\n",
      "RangeIndex: 89197 entries, 0 to 89196\n",
      "Data columns (total 10 columns):\n",
      " #   Column            Non-Null Count  Dtype  \n",
      "---  ------            --------------  -----  \n",
      " 0   row_id            89197 non-null  int64  \n",
      " 1   user_id           89197 non-null  int64  \n",
      " 2   category_id       89197 non-null  int64  \n",
      " 3   video_id          89197 non-null  int64  \n",
      " 4   age               89197 non-null  int64  \n",
      " 5   gender            89197 non-null  object \n",
      " 6   profession        89197 non-null  object \n",
      " 7   followers         89197 non-null  int64  \n",
      " 8   views             89197 non-null  int64  \n",
      " 9   engagement_score  89197 non-null  float64\n",
      "dtypes: float64(1), int64(7), object(2)\n",
      "memory usage: 6.8+ MB\n"
     ]
    }
   ],
   "source": [
    "train.info()"
   ]
  },
  {
   "cell_type": "code",
   "execution_count": 9,
   "id": "780216c8",
   "metadata": {},
   "outputs": [
    {
     "data": {
      "text/plain": [
       "((11121, 9), (89197, 10))"
      ]
     },
     "execution_count": 9,
     "metadata": {},
     "output_type": "execute_result"
    }
   ],
   "source": [
    "test.shape,train.shape"
   ]
  },
  {
   "cell_type": "markdown",
   "id": "4a7c70c0",
   "metadata": {},
   "source": [
    "we found out that our test data has 11121 rows and 9 columns\n",
    "and our train dataset has 89197 rows and 10 columns"
   ]
  },
  {
   "cell_type": "markdown",
   "id": "b30e7173",
   "metadata": {},
   "source": [
    "#  Preprocessing"
   ]
  },
  {
   "cell_type": "markdown",
   "id": "2349de14",
   "metadata": {},
   "source": [
    " # 1.Missing value handling\n",
    " There is no missing values which we found earlier"
   ]
  },
  {
   "cell_type": "markdown",
   "id": "61656ba2",
   "metadata": {},
   "source": [
    "# 2. Outlier Detection and Handling(Data cleaning)"
   ]
  },
  {
   "cell_type": "code",
   "execution_count": 10,
   "id": "ef94f2d1",
   "metadata": {},
   "outputs": [
    {
     "name": "stdout",
     "output_type": "stream",
     "text": [
      "row_id 11121\n",
      "user_id 10384\n",
      "category_id 23\n",
      "video_id 128\n",
      "age 53\n",
      "gender 2\n",
      "profession 3\n",
      "followers 15\n",
      "views 21\n"
     ]
    }
   ],
   "source": [
    "# checking for test dataset\n",
    "for column in test.columns:\n",
    "    print(column,test[column].nunique())"
   ]
  },
  {
   "cell_type": "markdown",
   "id": "3906cd40",
   "metadata": {},
   "source": [
    "There is no test data with one item"
   ]
  },
  {
   "cell_type": "code",
   "execution_count": 11,
   "id": "262c1f00",
   "metadata": {},
   "outputs": [
    {
     "data": {
      "image/png": "[encoded data removed]",
      "text/plain": [
       "<Figure size 432x288 with 1 Axes>"
      ]
     },
     "metadata": {
      "needs_background": "light"
     },
     "output_type": "display_data"
    },
    {
     "data": {
      "image/png": "[encoded data removed]",
      "text/plain": [
       "<Figure size 432x288 with 1 Axes>"
      ]
     },
     "metadata": {
      "needs_background": "light"
     },
     "output_type": "display_data"
    },
    {
     "data": {
      "image/png": "[encoded data removed]",
      "text/plain": [
       "<Figure size 432x288 with 1 Axes>"
      ]
     },
     "metadata": {
      "needs_background": "light"
     },
     "output_type": "display_data"
    },
    {
     "data": {
      "image/png": "[encoded data removed]",
      "text/plain": [
       "<Figure size 432x288 with 1 Axes>"
      ]
     },
     "metadata": {
      "needs_background": "light"
     },
     "output_type": "display_data"
    },
    {
     "data": {
      "image/png": "[encoded data removed]",
      "text/plain": [
       "<Figure size 432x288 with 1 Axes>"
      ]
     },
     "metadata": {
      "needs_background": "light"
     },
     "output_type": "display_data"
    },
    {
     "data": {
      "image/png": "[encoded data removed]",
      "text/plain": [
       "<Figure size 432x288 with 1 Axes>"
      ]
     },
     "metadata": {
      "needs_background": "light"
     },
     "output_type": "display_data"
    },
    {
     "data": {
      "image/png": "[encoded data removed]",
      "text/plain": [
       "<Figure size 432x288 with 1 Axes>"
      ]
     },
     "metadata": {
      "needs_background": "light"
     },
     "output_type": "display_data"
    }
   ],
   "source": [
    "\n",
    "num=test.select_dtypes(include=[np.float64,np.int64])\n",
    "for i in num:\n",
    "    sns.boxplot(test[i])\n",
    "    plt.show()"
   ]
  },
  {
   "cell_type": "markdown",
   "id": "ece4e318",
   "metadata": {},
   "source": [
    "we found some outlier in age and followers let us remove outliers"
   ]
  },
  {
   "cell_type": "code",
   "execution_count": 12,
   "id": "362c0732",
   "metadata": {},
   "outputs": [
    {
     "name": "stdout",
     "output_type": "stream",
     "text": [
      "-3.0 53.0\n"
     ]
    }
   ],
   "source": [
    "#finding interquartile range for Age\n",
    "age=test['age']\n",
    "q1=np.percentile(age,25)\n",
    "q3=np.percentile(age,75)\n",
    "IQR=q3-q1\n",
    "low=q1-1.5*IQR\n",
    "upper=q3+1.5*IQR\n",
    "print(low,upper)"
   ]
  },
  {
   "cell_type": "markdown",
   "id": "7fe8db20",
   "metadata": {},
   "source": [
    "Since we can have age above 54 we cant consider that as an outlier also less than 70 is possible"
   ]
  },
  {
   "cell_type": "code",
   "execution_count": 13,
   "id": "80a8edb3",
   "metadata": {},
   "outputs": [
    {
     "name": "stdout",
     "output_type": "stream",
     "text": [
      "170.0 330.0\n"
     ]
    }
   ],
   "source": [
    "#finding interquartile range for Followers\n",
    "followers=test['followers']\n",
    "q1=np.percentile(followers,25)\n",
    "q3=np.percentile(followers,75)\n",
    "IQR=q3-q1\n",
    "low=q1-1.5*IQR\n",
    "upper=q3+1.5*IQR\n",
    "print(low,upper)"
   ]
  },
  {
   "cell_type": "markdown",
   "id": "118faf5d",
   "metadata": {},
   "source": [
    "330 and 350 is not having huge diffence so we are noot handling this outlier"
   ]
  },
  {
   "cell_type": "code",
   "execution_count": 14,
   "id": "9a41bc70",
   "metadata": {},
   "outputs": [
    {
     "name": "stdout",
     "output_type": "stream",
     "text": [
      "row_id 89197\n",
      "user_id 27734\n",
      "category_id 47\n",
      "video_id 175\n",
      "age 58\n",
      "gender 2\n",
      "profession 3\n",
      "followers 17\n",
      "views 43\n",
      "engagement_score 229\n"
     ]
    }
   ],
   "source": [
    "#checking for test dataset\n",
    "for column in train.columns:\n",
    "    print(column,train[column].nunique())"
   ]
  },
  {
   "cell_type": "code",
   "execution_count": 15,
   "id": "268c759c",
   "metadata": {},
   "outputs": [
    {
     "data": {
      "image/png": "[encoded data removed]",
      "text/plain": [
       "<Figure size 432x288 with 1 Axes>"
      ]
     },
     "metadata": {
      "needs_background": "light"
     },
     "output_type": "display_data"
    },
    {
     "data": {
      "image/png": "[encoded data removed]",
      "text/plain": [
       "<Figure size 432x288 with 1 Axes>"
      ]
     },
     "metadata": {
      "needs_background": "light"
     },
     "output_type": "display_data"
    },
    {
     "data": {
      "image/png": "[encoded data removed]",
      "text/plain": [
       "<Figure size 432x288 with 1 Axes>"
      ]
     },
     "metadata": {
      "needs_background": "light"
     },
     "output_type": "display_data"
    },
    {
     "data": {
      "image/png": "[encoded data removed]",
      "text/plain": [
       "<Figure size 432x288 with 1 Axes>"
      ]
     },
     "metadata": {
      "needs_background": "light"
     },
     "output_type": "display_data"
    },
    {
     "data": {
      "image/png": "[encoded data removed]",
      "text/plain": [
       "<Figure size 432x288 with 1 Axes>"
      ]
     },
     "metadata": {
      "needs_background": "light"
     },
     "output_type": "display_data"
    },
    {
     "data": {
      "image/png": "[encoded data removed]",
      "text/plain": [
       "<Figure size 432x288 with 1 Axes>"
      ]
     },
     "metadata": {
      "needs_background": "light"
     },
     "output_type": "display_data"
    },
    {
     "data": {
      "image/png": "[encoded data removed]",
      "text/plain": [
       "<Figure size 432x288 with 1 Axes>"
      ]
     },
     "metadata": {
      "needs_background": "light"
     },
     "output_type": "display_data"
    },
    {
     "data": {
      "image/png": "[encoded data removed]",
      "text/plain": [
       "<Figure size 432x288 with 1 Axes>"
      ]
     },
     "metadata": {
      "needs_background": "light"
     },
     "output_type": "display_data"
    }
   ],
   "source": [
    "num1=train.select_dtypes(include=[np.float64,np.int64])\n",
    "for i in num1:\n",
    "    sns.boxplot(train[i])\n",
    "    plt.show()"
   ]
  },
  {
   "cell_type": "markdown",
   "id": "437dabf9",
   "metadata": {},
   "source": [
    "here we dont consider the outlier of age beacuse age can be below\n",
    "80 which is normal also engament score which is our target feature"
   ]
  },
  {
   "cell_type": "code",
   "execution_count": 16,
   "id": "f6f93782",
   "metadata": {
    "scrolled": true
   },
   "outputs": [
    {
     "name": "stdout",
     "output_type": "stream",
     "text": [
      "155.0 355.0\n"
     ]
    }
   ],
   "source": [
    "#finding interquartile range for Followers\n",
    "followers=train['followers']\n",
    "q1=np.percentile(followers,25)\n",
    "q3=np.percentile(followers,75)\n",
    "IQR=q3-q1\n",
    "low=q1-1.5*IQR\n",
    "upper=q3+1.5*IQR\n",
    "print(low,upper)"
   ]
  },
  {
   "cell_type": "markdown",
   "id": "2380ff60",
   "metadata": {},
   "source": [
    "so we cant condier follower having outlier"
   ]
  },
  {
   "cell_type": "markdown",
   "id": "946d48aa",
   "metadata": {},
   "source": [
    "#  feature reduction"
   ]
  },
  {
   "cell_type": "code",
   "execution_count": 17,
   "id": "4e457da1",
   "metadata": {},
   "outputs": [
    {
     "data": {
      "text/plain": [
       "<AxesSubplot:>"
      ]
     },
     "execution_count": 17,
     "metadata": {},
     "output_type": "execute_result"
    },
    {
     "data": {
      "image/png": "[encoded data removed]",
      "text/plain": [
       "<Figure size 1440x720 with 2 Axes>"
      ]
     },
     "metadata": {
      "needs_background": "light"
     },
     "output_type": "display_data"
    }
   ],
   "source": [
    "corrmatrix =test.corr()\n",
    "plt.subplots(figsize=(20,10))\n",
    "sns.heatmap(corrmatrix,annot=True,linewidth=.2,cmap='YlGnBu')"
   ]
  },
  {
   "cell_type": "code",
   "execution_count": 18,
   "id": "9c9e3567",
   "metadata": {},
   "outputs": [],
   "source": [
    "#we known row id has no importance in feature engineering so let us drop it\n",
    "dftest=test.drop(['row_id','user_id'],axis=1)\n",
    "#since we have only 8 other features we are not doing feature reduction"
   ]
  },
  {
   "cell_type": "code",
   "execution_count": 19,
   "id": "75e94671",
   "metadata": {},
   "outputs": [
    {
     "data": {
      "text/plain": [
       "<AxesSubplot:>"
      ]
     },
     "execution_count": 19,
     "metadata": {},
     "output_type": "execute_result"
    },
    {
     "data": {
      "image/png": "[encoded data removed]",
      "text/plain": [
       "<Figure size 1440x720 with 2 Axes>"
      ]
     },
     "metadata": {
      "needs_background": "light"
     },
     "output_type": "display_data"
    }
   ],
   "source": [
    "corrmatrix =train.corr()\n",
    "plt.subplots(figsize=(20,10))\n",
    "sns.heatmap(corrmatrix,annot=True,linewidth=.2,cmap='YlGnBu')"
   ]
  },
  {
   "cell_type": "code",
   "execution_count": 20,
   "id": "265b37c2",
   "metadata": {},
   "outputs": [],
   "source": [
    "#we known row id and user id has no importance in feature engineering so let us drop it\n",
    "dftrain=train.drop(['row_id','user_id'],axis=1)\n",
    "#since we have only 8 other features we are not doing feature reduction"
   ]
  },
  {
   "cell_type": "markdown",
   "id": "6d4fb880",
   "metadata": {},
   "source": [
    "# Checking for Unknown values"
   ]
  },
  {
   "cell_type": "code",
   "execution_count": 21,
   "id": "af579492",
   "metadata": {},
   "outputs": [
    {
     "name": "stdout",
     "output_type": "stream",
     "text": [
      "gender\n",
      "['Male' 'Female']\n",
      "profession\n",
      "['Student' 'Working Professional' 'Other']\n"
     ]
    }
   ],
   "source": [
    "for col in test.select_dtypes(include='object').columns:\n",
    "    print(col)\n",
    "    print(test[col].unique())"
   ]
  },
  {
   "cell_type": "markdown",
   "id": "47cb7072",
   "metadata": {},
   "source": [
    "there is no unknown values"
   ]
  },
  {
   "cell_type": "code",
   "execution_count": 22,
   "id": "c1adfaaa",
   "metadata": {},
   "outputs": [
    {
     "name": "stdout",
     "output_type": "stream",
     "text": [
      "gender\n",
      "['Male' 'Female']\n",
      "profession\n",
      "['Student' 'Working Professional' 'Other']\n"
     ]
    }
   ],
   "source": [
    "for col in train.select_dtypes(include='object').columns:\n",
    "    print(col)\n",
    "    print(test[col].unique())"
   ]
  },
  {
   "cell_type": "markdown",
   "id": "d79feed3",
   "metadata": {},
   "source": [
    "there is no unknown values"
   ]
  },
  {
   "cell_type": "markdown",
   "id": "5d606cb8",
   "metadata": {},
   "source": [
    "#  Exploratory Data Analysis"
   ]
  },
  {
   "cell_type": "code",
   "execution_count": 23,
   "id": "84e25d66",
   "metadata": {},
   "outputs": [],
   "source": [
    "#1.understanding the data->done\n",
    "#2.cleaning the data->done"
   ]
  },
  {
   "cell_type": "code",
   "execution_count": 24,
   "id": "349f8a56",
   "metadata": {},
   "outputs": [
    {
     "data": {
      "text/html": [
       "<div>\n",
       "<style scoped>\n",
       "    .dataframe tbody tr th:only-of-type {\n",
       "        vertical-align: middle;\n",
       "    }\n",
       "\n",
       "    .dataframe tbody tr th {\n",
       "        vertical-align: top;\n",
       "    }\n",
       "\n",
       "    .dataframe thead th {\n",
       "        text-align: right;\n",
       "    }\n",
       "</style>\n",
       "<table border=\"1\" class=\"dataframe\">\n",
       "  <thead>\n",
       "    <tr style=\"text-align: right;\">\n",
       "      <th></th>\n",
       "      <th>category_id</th>\n",
       "      <th>video_id</th>\n",
       "      <th>age</th>\n",
       "      <th>gender</th>\n",
       "      <th>profession</th>\n",
       "      <th>followers</th>\n",
       "      <th>views</th>\n",
       "    </tr>\n",
       "  </thead>\n",
       "  <tbody>\n",
       "    <tr>\n",
       "      <th>count</th>\n",
       "      <td>11121.000000</td>\n",
       "      <td>11121.000000</td>\n",
       "      <td>11121.000000</td>\n",
       "      <td>11121</td>\n",
       "      <td>11121</td>\n",
       "      <td>11121.000000</td>\n",
       "      <td>11121.000000</td>\n",
       "    </tr>\n",
       "    <tr>\n",
       "      <th>unique</th>\n",
       "      <td>NaN</td>\n",
       "      <td>NaN</td>\n",
       "      <td>NaN</td>\n",
       "      <td>2</td>\n",
       "      <td>3</td>\n",
       "      <td>NaN</td>\n",
       "      <td>NaN</td>\n",
       "    </tr>\n",
       "    <tr>\n",
       "      <th>top</th>\n",
       "      <td>NaN</td>\n",
       "      <td>NaN</td>\n",
       "      <td>NaN</td>\n",
       "      <td>Male</td>\n",
       "      <td>Student</td>\n",
       "      <td>NaN</td>\n",
       "      <td>NaN</td>\n",
       "    </tr>\n",
       "    <tr>\n",
       "      <th>freq</th>\n",
       "      <td>NaN</td>\n",
       "      <td>NaN</td>\n",
       "      <td>NaN</td>\n",
       "      <td>6377</td>\n",
       "      <td>5572</td>\n",
       "      <td>NaN</td>\n",
       "      <td>NaN</td>\n",
       "    </tr>\n",
       "    <tr>\n",
       "      <th>mean</th>\n",
       "      <td>15.666487</td>\n",
       "      <td>79.742559</td>\n",
       "      <td>24.854150</td>\n",
       "      <td>NaN</td>\n",
       "      <td>NaN</td>\n",
       "      <td>249.691574</td>\n",
       "      <td>454.959986</td>\n",
       "    </tr>\n",
       "    <tr>\n",
       "      <th>std</th>\n",
       "      <td>10.313259</td>\n",
       "      <td>48.702501</td>\n",
       "      <td>8.953976</td>\n",
       "      <td>NaN</td>\n",
       "      <td>NaN</td>\n",
       "      <td>38.511469</td>\n",
       "      <td>249.759038</td>\n",
       "    </tr>\n",
       "    <tr>\n",
       "      <th>min</th>\n",
       "      <td>1.000000</td>\n",
       "      <td>1.000000</td>\n",
       "      <td>10.000000</td>\n",
       "      <td>NaN</td>\n",
       "      <td>NaN</td>\n",
       "      <td>160.000000</td>\n",
       "      <td>44.000000</td>\n",
       "    </tr>\n",
       "    <tr>\n",
       "      <th>25%</th>\n",
       "      <td>8.000000</td>\n",
       "      <td>39.000000</td>\n",
       "      <td>18.000000</td>\n",
       "      <td>NaN</td>\n",
       "      <td>NaN</td>\n",
       "      <td>230.000000</td>\n",
       "      <td>229.000000</td>\n",
       "    </tr>\n",
       "    <tr>\n",
       "      <th>50%</th>\n",
       "      <td>12.000000</td>\n",
       "      <td>80.000000</td>\n",
       "      <td>23.000000</td>\n",
       "      <td>NaN</td>\n",
       "      <td>NaN</td>\n",
       "      <td>240.000000</td>\n",
       "      <td>369.000000</td>\n",
       "    </tr>\n",
       "    <tr>\n",
       "      <th>75%</th>\n",
       "      <td>25.000000</td>\n",
       "      <td>121.000000</td>\n",
       "      <td>32.000000</td>\n",
       "      <td>NaN</td>\n",
       "      <td>NaN</td>\n",
       "      <td>270.000000</td>\n",
       "      <td>662.000000</td>\n",
       "    </tr>\n",
       "    <tr>\n",
       "      <th>max</th>\n",
       "      <td>46.000000</td>\n",
       "      <td>174.000000</td>\n",
       "      <td>68.000000</td>\n",
       "      <td>NaN</td>\n",
       "      <td>NaN</td>\n",
       "      <td>360.000000</td>\n",
       "      <td>990.000000</td>\n",
       "    </tr>\n",
       "  </tbody>\n",
       "</table>\n",
       "</div>"
      ],
      "text/plain": [
       "         category_id      video_id           age gender profession  \\\n",
       "count   11121.000000  11121.000000  11121.000000  11121      11121   \n",
       "unique           NaN           NaN           NaN      2          3   \n",
       "top              NaN           NaN           NaN   Male    Student   \n",
       "freq             NaN           NaN           NaN   6377       5572   \n",
       "mean       15.666487     79.742559     24.854150    NaN        NaN   \n",
       "std        10.313259     48.702501      8.953976    NaN        NaN   \n",
       "min         1.000000      1.000000     10.000000    NaN        NaN   \n",
       "25%         8.000000     39.000000     18.000000    NaN        NaN   \n",
       "50%        12.000000     80.000000     23.000000    NaN        NaN   \n",
       "75%        25.000000    121.000000     32.000000    NaN        NaN   \n",
       "max        46.000000    174.000000     68.000000    NaN        NaN   \n",
       "\n",
       "           followers         views  \n",
       "count   11121.000000  11121.000000  \n",
       "unique           NaN           NaN  \n",
       "top              NaN           NaN  \n",
       "freq             NaN           NaN  \n",
       "mean      249.691574    454.959986  \n",
       "std        38.511469    249.759038  \n",
       "min       160.000000     44.000000  \n",
       "25%       230.000000    229.000000  \n",
       "50%       240.000000    369.000000  \n",
       "75%       270.000000    662.000000  \n",
       "max       360.000000    990.000000  "
      ]
     },
     "execution_count": 24,
     "metadata": {},
     "output_type": "execute_result"
    }
   ],
   "source": [
    "dftest.describe(include='all')"
   ]
  },
  {
   "cell_type": "markdown",
   "id": "a15cfec4",
   "metadata": {},
   "source": [
    "Avg age is 24.85\n",
    "most of them are male\n",
    "The most proffesion are students\n",
    "Avg Total views of the videos present in the particular category is 454"
   ]
  },
  {
   "cell_type": "code",
   "execution_count": 25,
   "id": "b7e9b85a",
   "metadata": {},
   "outputs": [
    {
     "data": {
      "text/html": [
       "<div>\n",
       "<style scoped>\n",
       "    .dataframe tbody tr th:only-of-type {\n",
       "        vertical-align: middle;\n",
       "    }\n",
       "\n",
       "    .dataframe tbody tr th {\n",
       "        vertical-align: top;\n",
       "    }\n",
       "\n",
       "    .dataframe thead th {\n",
       "        text-align: right;\n",
       "    }\n",
       "</style>\n",
       "<table border=\"1\" class=\"dataframe\">\n",
       "  <thead>\n",
       "    <tr style=\"text-align: right;\">\n",
       "      <th></th>\n",
       "      <th>category_id</th>\n",
       "      <th>video_id</th>\n",
       "      <th>age</th>\n",
       "      <th>gender</th>\n",
       "      <th>profession</th>\n",
       "      <th>followers</th>\n",
       "      <th>views</th>\n",
       "      <th>engagement_score</th>\n",
       "    </tr>\n",
       "  </thead>\n",
       "  <tbody>\n",
       "    <tr>\n",
       "      <th>count</th>\n",
       "      <td>89197.000000</td>\n",
       "      <td>89197.000000</td>\n",
       "      <td>89197.000000</td>\n",
       "      <td>89197</td>\n",
       "      <td>89197</td>\n",
       "      <td>89197.000000</td>\n",
       "      <td>89197.000000</td>\n",
       "      <td>89197.000000</td>\n",
       "    </tr>\n",
       "    <tr>\n",
       "      <th>unique</th>\n",
       "      <td>NaN</td>\n",
       "      <td>NaN</td>\n",
       "      <td>NaN</td>\n",
       "      <td>2</td>\n",
       "      <td>3</td>\n",
       "      <td>NaN</td>\n",
       "      <td>NaN</td>\n",
       "      <td>NaN</td>\n",
       "    </tr>\n",
       "    <tr>\n",
       "      <th>top</th>\n",
       "      <td>NaN</td>\n",
       "      <td>NaN</td>\n",
       "      <td>NaN</td>\n",
       "      <td>Male</td>\n",
       "      <td>Student</td>\n",
       "      <td>NaN</td>\n",
       "      <td>NaN</td>\n",
       "      <td>NaN</td>\n",
       "    </tr>\n",
       "    <tr>\n",
       "      <th>freq</th>\n",
       "      <td>NaN</td>\n",
       "      <td>NaN</td>\n",
       "      <td>NaN</td>\n",
       "      <td>52397</td>\n",
       "      <td>44638</td>\n",
       "      <td>NaN</td>\n",
       "      <td>NaN</td>\n",
       "      <td>NaN</td>\n",
       "    </tr>\n",
       "    <tr>\n",
       "      <th>mean</th>\n",
       "      <td>18.323733</td>\n",
       "      <td>77.715383</td>\n",
       "      <td>24.848616</td>\n",
       "      <td>NaN</td>\n",
       "      <td>NaN</td>\n",
       "      <td>252.460172</td>\n",
       "      <td>502.980268</td>\n",
       "      <td>3.487797</td>\n",
       "    </tr>\n",
       "    <tr>\n",
       "      <th>std</th>\n",
       "      <td>11.675154</td>\n",
       "      <td>48.469656</td>\n",
       "      <td>8.955535</td>\n",
       "      <td>NaN</td>\n",
       "      <td>NaN</td>\n",
       "      <td>46.094468</td>\n",
       "      <td>268.569482</td>\n",
       "      <td>0.863498</td>\n",
       "    </tr>\n",
       "    <tr>\n",
       "      <th>min</th>\n",
       "      <td>1.000000</td>\n",
       "      <td>1.000000</td>\n",
       "      <td>10.000000</td>\n",
       "      <td>NaN</td>\n",
       "      <td>NaN</td>\n",
       "      <td>160.000000</td>\n",
       "      <td>30.000000</td>\n",
       "      <td>0.000000</td>\n",
       "    </tr>\n",
       "    <tr>\n",
       "      <th>25%</th>\n",
       "      <td>8.000000</td>\n",
       "      <td>34.000000</td>\n",
       "      <td>18.000000</td>\n",
       "      <td>NaN</td>\n",
       "      <td>NaN</td>\n",
       "      <td>230.000000</td>\n",
       "      <td>229.000000</td>\n",
       "      <td>2.900000</td>\n",
       "    </tr>\n",
       "    <tr>\n",
       "      <th>50%</th>\n",
       "      <td>16.000000</td>\n",
       "      <td>76.000000</td>\n",
       "      <td>23.000000</td>\n",
       "      <td>NaN</td>\n",
       "      <td>NaN</td>\n",
       "      <td>240.000000</td>\n",
       "      <td>467.000000</td>\n",
       "      <td>3.710000</td>\n",
       "    </tr>\n",
       "    <tr>\n",
       "      <th>75%</th>\n",
       "      <td>26.000000</td>\n",
       "      <td>120.000000</td>\n",
       "      <td>32.000000</td>\n",
       "      <td>NaN</td>\n",
       "      <td>NaN</td>\n",
       "      <td>280.000000</td>\n",
       "      <td>714.000000</td>\n",
       "      <td>4.150000</td>\n",
       "    </tr>\n",
       "    <tr>\n",
       "      <th>max</th>\n",
       "      <td>47.000000</td>\n",
       "      <td>175.000000</td>\n",
       "      <td>68.000000</td>\n",
       "      <td>NaN</td>\n",
       "      <td>NaN</td>\n",
       "      <td>360.000000</td>\n",
       "      <td>1000.000000</td>\n",
       "      <td>5.000000</td>\n",
       "    </tr>\n",
       "  </tbody>\n",
       "</table>\n",
       "</div>"
      ],
      "text/plain": [
       "         category_id      video_id           age gender profession  \\\n",
       "count   89197.000000  89197.000000  89197.000000  89197      89197   \n",
       "unique           NaN           NaN           NaN      2          3   \n",
       "top              NaN           NaN           NaN   Male    Student   \n",
       "freq             NaN           NaN           NaN  52397      44638   \n",
       "mean       18.323733     77.715383     24.848616    NaN        NaN   \n",
       "std        11.675154     48.469656      8.955535    NaN        NaN   \n",
       "min         1.000000      1.000000     10.000000    NaN        NaN   \n",
       "25%         8.000000     34.000000     18.000000    NaN        NaN   \n",
       "50%        16.000000     76.000000     23.000000    NaN        NaN   \n",
       "75%        26.000000    120.000000     32.000000    NaN        NaN   \n",
       "max        47.000000    175.000000     68.000000    NaN        NaN   \n",
       "\n",
       "           followers         views  engagement_score  \n",
       "count   89197.000000  89197.000000      89197.000000  \n",
       "unique           NaN           NaN               NaN  \n",
       "top              NaN           NaN               NaN  \n",
       "freq             NaN           NaN               NaN  \n",
       "mean      252.460172    502.980268          3.487797  \n",
       "std        46.094468    268.569482          0.863498  \n",
       "min       160.000000     30.000000          0.000000  \n",
       "25%       230.000000    229.000000          2.900000  \n",
       "50%       240.000000    467.000000          3.710000  \n",
       "75%       280.000000    714.000000          4.150000  \n",
       "max       360.000000   1000.000000          5.000000  "
      ]
     },
     "execution_count": 25,
     "metadata": {},
     "output_type": "execute_result"
    }
   ],
   "source": [
    "dftrain.describe(include='all')"
   ]
  },
  {
   "cell_type": "markdown",
   "id": "c912b4b4",
   "metadata": {},
   "source": [
    "Avg age is 24.85\n",
    "most of them are male\n",
    "The most proffesion are students\n",
    "Avg Total views of the videos present in the particular category is 502"
   ]
  },
  {
   "cell_type": "markdown",
   "id": "2c1dbaf7",
   "metadata": {},
   "source": [
    "# Univariate"
   ]
  },
  {
   "cell_type": "code",
   "execution_count": 26,
   "id": "36342b4a",
   "metadata": {
    "scrolled": true
   },
   "outputs": [
    {
     "data": {
      "text/plain": [
       "<AxesSubplot:xlabel='age', ylabel='count'>"
      ]
     },
     "execution_count": 26,
     "metadata": {},
     "output_type": "execute_result"
    },
    {
     "data": {
      "image/png": "[encoded data removed]",
      "text/plain": [
       "<Figure size 1080x360 with 1 Axes>"
      ]
     },
     "metadata": {
      "needs_background": "light"
     },
     "output_type": "display_data"
    }
   ],
   "source": [
    "plt.figure(figsize=(15,5))\n",
    "sns.countplot('age',data=train,palette='ocean')"
   ]
  },
  {
   "cell_type": "markdown",
   "id": "e2e69cae",
   "metadata": {},
   "source": [
    "we found that the data most user are in age group of 10 to 40"
   ]
  },
  {
   "cell_type": "markdown",
   "id": "cc04d56a",
   "metadata": {},
   "source": [
    "# bivariate "
   ]
  },
  {
   "cell_type": "code",
   "execution_count": 27,
   "id": "1817748a",
   "metadata": {},
   "outputs": [
    {
     "data": {
      "text/html": [
       "<div>\n",
       "<style scoped>\n",
       "    .dataframe tbody tr th:only-of-type {\n",
       "        vertical-align: middle;\n",
       "    }\n",
       "\n",
       "    .dataframe tbody tr th {\n",
       "        vertical-align: top;\n",
       "    }\n",
       "\n",
       "    .dataframe thead th {\n",
       "        text-align: right;\n",
       "    }\n",
       "</style>\n",
       "<table border=\"1\" class=\"dataframe\">\n",
       "  <thead>\n",
       "    <tr style=\"text-align: right;\">\n",
       "      <th>engagement_score</th>\n",
       "      <th>0.00</th>\n",
       "      <th>0.02</th>\n",
       "      <th>0.40</th>\n",
       "      <th>0.42</th>\n",
       "      <th>0.45</th>\n",
       "      <th>0.69</th>\n",
       "      <th>0.86</th>\n",
       "      <th>1.09</th>\n",
       "      <th>1.10</th>\n",
       "      <th>1.15</th>\n",
       "      <th>...</th>\n",
       "      <th>4.90</th>\n",
       "      <th>4.91</th>\n",
       "      <th>4.92</th>\n",
       "      <th>4.93</th>\n",
       "      <th>4.94</th>\n",
       "      <th>4.95</th>\n",
       "      <th>4.96</th>\n",
       "      <th>4.97</th>\n",
       "      <th>4.98</th>\n",
       "      <th>5.00</th>\n",
       "    </tr>\n",
       "    <tr>\n",
       "      <th>profession</th>\n",
       "      <th></th>\n",
       "      <th></th>\n",
       "      <th></th>\n",
       "      <th></th>\n",
       "      <th></th>\n",
       "      <th></th>\n",
       "      <th></th>\n",
       "      <th></th>\n",
       "      <th></th>\n",
       "      <th></th>\n",
       "      <th></th>\n",
       "      <th></th>\n",
       "      <th></th>\n",
       "      <th></th>\n",
       "      <th></th>\n",
       "      <th></th>\n",
       "      <th></th>\n",
       "      <th></th>\n",
       "      <th></th>\n",
       "      <th></th>\n",
       "      <th></th>\n",
       "    </tr>\n",
       "  </thead>\n",
       "  <tbody>\n",
       "    <tr>\n",
       "      <th>Other</th>\n",
       "      <td>109</td>\n",
       "      <td>28</td>\n",
       "      <td>0</td>\n",
       "      <td>0</td>\n",
       "      <td>0</td>\n",
       "      <td>166</td>\n",
       "      <td>0</td>\n",
       "      <td>0</td>\n",
       "      <td>180</td>\n",
       "      <td>0</td>\n",
       "      <td>...</td>\n",
       "      <td>0</td>\n",
       "      <td>0</td>\n",
       "      <td>0</td>\n",
       "      <td>0</td>\n",
       "      <td>0</td>\n",
       "      <td>0</td>\n",
       "      <td>0</td>\n",
       "      <td>0</td>\n",
       "      <td>0</td>\n",
       "      <td>0</td>\n",
       "    </tr>\n",
       "    <tr>\n",
       "      <th>Student</th>\n",
       "      <td>0</td>\n",
       "      <td>0</td>\n",
       "      <td>189</td>\n",
       "      <td>28</td>\n",
       "      <td>0</td>\n",
       "      <td>0</td>\n",
       "      <td>0</td>\n",
       "      <td>272</td>\n",
       "      <td>0</td>\n",
       "      <td>0</td>\n",
       "      <td>...</td>\n",
       "      <td>271</td>\n",
       "      <td>237</td>\n",
       "      <td>149</td>\n",
       "      <td>95</td>\n",
       "      <td>75</td>\n",
       "      <td>53</td>\n",
       "      <td>40</td>\n",
       "      <td>52</td>\n",
       "      <td>26</td>\n",
       "      <td>196</td>\n",
       "    </tr>\n",
       "    <tr>\n",
       "      <th>Working Professional</th>\n",
       "      <td>89</td>\n",
       "      <td>0</td>\n",
       "      <td>0</td>\n",
       "      <td>0</td>\n",
       "      <td>94</td>\n",
       "      <td>0</td>\n",
       "      <td>117</td>\n",
       "      <td>0</td>\n",
       "      <td>0</td>\n",
       "      <td>174</td>\n",
       "      <td>...</td>\n",
       "      <td>0</td>\n",
       "      <td>0</td>\n",
       "      <td>0</td>\n",
       "      <td>0</td>\n",
       "      <td>0</td>\n",
       "      <td>0</td>\n",
       "      <td>0</td>\n",
       "      <td>0</td>\n",
       "      <td>0</td>\n",
       "      <td>0</td>\n",
       "    </tr>\n",
       "  </tbody>\n",
       "</table>\n",
       "<p>3 rows × 229 columns</p>\n",
       "</div>"
      ],
      "text/plain": [
       "engagement_score      0.00  0.02  0.40  0.42  0.45  0.69  0.86  1.09  1.10  \\\n",
       "profession                                                                   \n",
       "Other                  109    28     0     0     0   166     0     0   180   \n",
       "Student                  0     0   189    28     0     0     0   272     0   \n",
       "Working Professional    89     0     0     0    94     0   117     0     0   \n",
       "\n",
       "engagement_score      1.15  ...  4.90  4.91  4.92  4.93  4.94  4.95  4.96  \\\n",
       "profession                  ...                                             \n",
       "Other                    0  ...     0     0     0     0     0     0     0   \n",
       "Student                  0  ...   271   237   149    95    75    53    40   \n",
       "Working Professional   174  ...     0     0     0     0     0     0     0   \n",
       "\n",
       "engagement_score      4.97  4.98  5.00  \n",
       "profession                              \n",
       "Other                    0     0     0  \n",
       "Student                 52    26   196  \n",
       "Working Professional     0     0     0  \n",
       "\n",
       "[3 rows x 229 columns]"
      ]
     },
     "execution_count": 27,
     "metadata": {},
     "output_type": "execute_result"
    }
   ],
   "source": [
    "pd.crosstab(dftrain['profession'],dftrain['engagement_score'])"
   ]
  },
  {
   "cell_type": "markdown",
   "id": "31299ee0",
   "metadata": {},
   "source": [
    "Engagment score of students is high compared to others"
   ]
  },
  {
   "cell_type": "markdown",
   "id": "41f78103",
   "metadata": {},
   "source": [
    "# one hot encoding"
   ]
  },
  {
   "cell_type": "code",
   "execution_count": 28,
   "id": "e91f7c1b",
   "metadata": {},
   "outputs": [
    {
     "name": "stdout",
     "output_type": "stream",
     "text": [
      "gender\n",
      "['Male' 'Female']\n",
      "profession\n",
      "['Student' 'Working Professional' 'Other']\n"
     ]
    }
   ],
   "source": [
    "for col in dftrain.select_dtypes(include='object').columns:\n",
    "    print(col)\n",
    "    print(train[col].unique())"
   ]
  },
  {
   "cell_type": "code",
   "execution_count": 29,
   "id": "00d66ede",
   "metadata": {},
   "outputs": [
    {
     "name": "stdout",
     "output_type": "stream",
     "text": [
      "gender\n",
      "['Male' 'Female']\n",
      "profession\n",
      "['Student' 'Working Professional' 'Other']\n"
     ]
    }
   ],
   "source": [
    "for col in dftest.select_dtypes(include='object').columns:\n",
    "    print(col)\n",
    "    print(train[col].unique())"
   ]
  },
  {
   "cell_type": "code",
   "execution_count": 30,
   "id": "f7207e14",
   "metadata": {
    "scrolled": true
   },
   "outputs": [],
   "source": [
    "dftrain = pd.get_dummies(dftrain, columns = ['gender','profession' ])\n",
    "dftest = pd.get_dummies(dftest, columns = ['gender','profession' ])"
   ]
  },
  {
   "cell_type": "markdown",
   "id": "838af4b2",
   "metadata": {},
   "source": [
    "# Step 5: Building Model"
   ]
  },
  {
   "cell_type": "code",
   "execution_count": 31,
   "id": "47977c76",
   "metadata": {
    "scrolled": true
   },
   "outputs": [
    {
     "data": {
      "text/plain": [
       "Index(['category_id', 'video_id', 'age', 'followers', 'views',\n",
       "       'engagement_score', 'gender_Female', 'gender_Male', 'profession_Other',\n",
       "       'profession_Student', 'profession_Working Professional'],\n",
       "      dtype='object')"
      ]
     },
     "execution_count": 31,
     "metadata": {},
     "output_type": "execute_result"
    }
   ],
   "source": [
    "dftrain.columns"
   ]
  },
  {
   "cell_type": "code",
   "execution_count": 32,
   "id": "60720c23",
   "metadata": {},
   "outputs": [],
   "source": [
    "# Seperate Features and Target\n",
    "X= dftrain.drop(columns = ['engagement_score'], axis=1)\n",
    "y= dftrain['engagement_score']"
   ]
  },
  {
   "cell_type": "code",
   "execution_count": 33,
   "id": "cbc6f5c9",
   "metadata": {},
   "outputs": [],
   "source": [
    "# 20% data as validation set\n",
    "from sklearn.model_selection import train_test_split\n",
    "X_train,X_test,y_train,y_test = train_test_split(X,y,test_size=0.2,random_state=42)"
   ]
  },
  {
   "cell_type": "markdown",
   "id": "8dd81b09",
   "metadata": {},
   "source": [
    "Here we need to Predict Engagement score so we need to use Regression Models"
   ]
  },
  {
   "cell_type": "markdown",
   "id": "0a33fc95",
   "metadata": {},
   "source": [
    "# ML models"
   ]
  },
  {
   "cell_type": "code",
   "execution_count": 34,
   "id": "272376d4",
   "metadata": {},
   "outputs": [],
   "source": [
    "from sklearn.linear_model import Ridge, Lasso, LinearRegression\n",
    "from sklearn.tree import DecisionTreeRegressor\n",
    "from sklearn.neighbors import KNeighborsRegressor\n",
    "from sklearn import metrics"
   ]
  },
  {
   "cell_type": "code",
   "execution_count": 35,
   "id": "1668f9d6",
   "metadata": {},
   "outputs": [],
   "source": [
    "Algorithms = [LinearRegression(),  Ridge(), Lasso(),\n",
    "          KNeighborsRegressor(), DecisionTreeRegressor()]\n",
    "names = ['Linear Regression', 'Ridge Regression', 'Lasso Regression',\n",
    "         'K Neighbors Regressor', 'Decision Tree Regressor']"
   ]
  },
  {
   "cell_type": "code",
   "execution_count": 36,
   "id": "1e881135",
   "metadata": {},
   "outputs": [],
   "source": [
    "r2scorelist=[]"
   ]
  },
  {
   "cell_type": "code",
   "execution_count": 37,
   "id": "2a77d20a",
   "metadata": {},
   "outputs": [],
   "source": [
    "for name in Algorithms:\n",
    "    model = name\n",
    "    model.fit(X_train,y_train)\n",
    "    y_pred = model.predict(X_test)\n",
    "    r2= metrics.r2_score(y_test,y_pred)\n",
    "    r2scorelist.append(r2)"
   ]
  },
  {
   "cell_type": "code",
   "execution_count": 38,
   "id": "c8e26c23",
   "metadata": {},
   "outputs": [],
   "source": [
    "evaluation = pd.DataFrame({'Model': names,\n",
    "                           'R2score': r2scorelist})"
   ]
  },
  {
   "cell_type": "code",
   "execution_count": 39,
   "id": "19cdeb6a",
   "metadata": {},
   "outputs": [
    {
     "data": {
      "text/html": [
       "<div>\n",
       "<style scoped>\n",
       "    .dataframe tbody tr th:only-of-type {\n",
       "        vertical-align: middle;\n",
       "    }\n",
       "\n",
       "    .dataframe tbody tr th {\n",
       "        vertical-align: top;\n",
       "    }\n",
       "\n",
       "    .dataframe thead th {\n",
       "        text-align: right;\n",
       "    }\n",
       "</style>\n",
       "<table border=\"1\" class=\"dataframe\">\n",
       "  <thead>\n",
       "    <tr style=\"text-align: right;\">\n",
       "      <th></th>\n",
       "      <th>Model</th>\n",
       "      <th>R2score</th>\n",
       "    </tr>\n",
       "  </thead>\n",
       "  <tbody>\n",
       "    <tr>\n",
       "      <th>0</th>\n",
       "      <td>Linear Regression</td>\n",
       "      <td>0.277897</td>\n",
       "    </tr>\n",
       "    <tr>\n",
       "      <th>1</th>\n",
       "      <td>Ridge Regression</td>\n",
       "      <td>0.277897</td>\n",
       "    </tr>\n",
       "    <tr>\n",
       "      <th>2</th>\n",
       "      <td>Lasso Regression</td>\n",
       "      <td>0.047761</td>\n",
       "    </tr>\n",
       "    <tr>\n",
       "      <th>3</th>\n",
       "      <td>K Neighbors Regressor</td>\n",
       "      <td>0.245153</td>\n",
       "    </tr>\n",
       "    <tr>\n",
       "      <th>4</th>\n",
       "      <td>Decision Tree Regressor</td>\n",
       "      <td>0.159100</td>\n",
       "    </tr>\n",
       "  </tbody>\n",
       "</table>\n",
       "</div>"
      ],
      "text/plain": [
       "                     Model   R2score\n",
       "0        Linear Regression  0.277897\n",
       "1         Ridge Regression  0.277897\n",
       "2         Lasso Regression  0.047761\n",
       "3    K Neighbors Regressor  0.245153\n",
       "4  Decision Tree Regressor  0.159100"
      ]
     },
     "execution_count": 39,
     "metadata": {},
     "output_type": "execute_result"
    }
   ],
   "source": [
    "evaluation"
   ]
  },
  {
   "cell_type": "markdown",
   "id": "64225554",
   "metadata": {},
   "source": [
    "# MinMax Scaling"
   ]
  },
  {
   "cell_type": "code",
   "execution_count": 40,
   "id": "8ef7aa04",
   "metadata": {},
   "outputs": [],
   "source": [
    "from sklearn.preprocessing import StandardScaler\n",
    "\n",
    "sc=StandardScaler()"
   ]
  },
  {
   "cell_type": "code",
   "execution_count": 41,
   "id": "1320a4b3",
   "metadata": {},
   "outputs": [],
   "source": [
    "X_train=sc.fit_transform(X_train)\n",
    "X_test=sc.fit_transform(X_test)"
   ]
  },
  {
   "cell_type": "markdown",
   "id": "68f71748",
   "metadata": {},
   "source": [
    "now let us find out separately"
   ]
  },
  {
   "cell_type": "code",
   "execution_count": 42,
   "id": "398ec7f7",
   "metadata": {},
   "outputs": [
    {
     "name": "stdout",
     "output_type": "stream",
     "text": [
      "-3.338904994725491e+20\n"
     ]
    }
   ],
   "source": [
    "#linear Regression\n",
    "lr=LinearRegression()\n",
    "lr.fit(X_train,y_train)\n",
    "pred=lr.predict(X_test)\n",
    "print(metrics.r2_score(y_test,pred))"
   ]
  },
  {
   "cell_type": "code",
   "execution_count": 43,
   "id": "0d5fe7de",
   "metadata": {},
   "outputs": [
    {
     "name": "stdout",
     "output_type": "stream",
     "text": [
      "0.278058505430701\n"
     ]
    }
   ],
   "source": [
    "#Ridge Regression\n",
    "RR=Ridge()\n",
    "RR.fit(X_train,y_train)\n",
    "pred=RR.predict(X_test)\n",
    "print(metrics.r2_score(y_test,pred))"
   ]
  },
  {
   "cell_type": "code",
   "execution_count": 44,
   "id": "c5a7b4de",
   "metadata": {},
   "outputs": [
    {
     "name": "stdout",
     "output_type": "stream",
     "text": [
      "-4.122551297358612e-05\n"
     ]
    }
   ],
   "source": [
    "#Lasso Regression\n",
    "la=Lasso()\n",
    "la.fit(X_train,y_train)\n",
    "pred=la.predict(X_test)\n",
    "print(metrics.r2_score(y_test,pred))"
   ]
  },
  {
   "cell_type": "code",
   "execution_count": 45,
   "id": "142defa6",
   "metadata": {},
   "outputs": [
    {
     "name": "stdout",
     "output_type": "stream",
     "text": [
      "0.2573215454995793\n"
     ]
    }
   ],
   "source": [
    "#KNeighborsRegressor()\n",
    "KNN=KNeighborsRegressor()\n",
    "KNN.fit(X_train,y_train)\n",
    "pred=KNN.predict(X_test)\n",
    "print(metrics.r2_score(y_test,pred))"
   ]
  },
  {
   "cell_type": "code",
   "execution_count": 46,
   "id": "82e8a4dd",
   "metadata": {},
   "outputs": [
    {
     "name": "stdout",
     "output_type": "stream",
     "text": [
      "0.15842261197307317\n"
     ]
    }
   ],
   "source": [
    "#'Decision Tree Regressor'\n",
    "dt=DecisionTreeRegressor()\n",
    "dt.fit(X_train,y_train)\n",
    "pred=dt.predict(X_test)\n",
    "print(metrics.r2_score(y_test,pred))"
   ]
  },
  {
   "cell_type": "code",
   "execution_count": 122,
   "id": "1e8727f1",
   "metadata": {},
   "outputs": [
    {
     "name": "stdout",
     "output_type": "stream",
     "text": [
      "0.2420211472961824\n"
     ]
    }
   ],
   "source": [
    "from sklearn.ensemble import RandomForestRegressor\n",
    "rf=RandomForestRegressor()\n",
    "rf.fit(X_train,y_train)\n",
    "pred=rf.predict(X_test)\n",
    "print(metrics.r2_score(y_test,pred))"
   ]
  },
  {
   "cell_type": "code",
   "execution_count": 121,
   "id": "bdc0e124",
   "metadata": {},
   "outputs": [],
   "source": [
    "pd.Series(rf.feature_importances_,index=X.columns).sort_values(ascending=False)*100\n",
    "train['id']=train['category_id']+train['video_id']\n",
    "train['viewid']=train['category_id']*train['views']"
   ]
  },
  {
   "cell_type": "code",
   "execution_count": 49,
   "id": "f7d1cf85",
   "metadata": {},
   "outputs": [
    {
     "name": "stdout",
     "output_type": "stream",
     "text": [
      "0.3483141789191281\n"
     ]
    }
   ],
   "source": [
    "#sklearn.ensemble.GradientBoostingRegressor\n",
    "from sklearn.ensemble import GradientBoostingRegressor\n",
    "GBR=GradientBoostingRegressor()\n",
    "GBR.fit(X_train,y_train)\n",
    "pred=GBR.predict(X_test)\n",
    "print(metrics.r2_score(y_test,pred))"
   ]
  },
  {
   "cell_type": "code",
   "execution_count": 50,
   "id": "eaf227bd",
   "metadata": {},
   "outputs": [],
   "source": [
    "#xgboost\n",
    "import xgboost as xg\n",
    "train_dmatrix = xg.DMatrix(data = X_train, label = y_train)\n",
    "test_dmatrix = xg.DMatrix(data = X_test, label = y_test)"
   ]
  },
  {
   "cell_type": "code",
   "execution_count": 51,
   "id": "9f7dcc36",
   "metadata": {
    "scrolled": true
   },
   "outputs": [
    {
     "name": "stdout",
     "output_type": "stream",
     "text": [
      "0.36052913440872514\n"
     ]
    }
   ],
   "source": [
    "xgb_r = xg.XGBRegressor()\n",
    "xgb_r.fit(X_train,y_train)\n",
    "pred=xgb_r.predict(X_test)\n",
    "print(metrics.r2_score(y_test,pred))"
   ]
  },
  {
   "cell_type": "markdown",
   "id": "22241e79",
   "metadata": {},
   "source": [
    "we found out that Random forest regression as the best fit model"
   ]
  },
  {
   "cell_type": "markdown",
   "id": "a45fa8e6",
   "metadata": {},
   "source": [
    "# Fine Tuning of Hyperparameter"
   ]
  },
  {
   "cell_type": "code",
   "execution_count": 123,
   "id": "296db955",
   "metadata": {
    "scrolled": false
   },
   "outputs": [
    {
     "name": "stdout",
     "output_type": "stream",
     "text": [
      "{'bootstrap': True, 'ccp_alpha': 0.0, 'criterion': 'mse', 'max_depth': None, 'max_features': 'auto', 'max_leaf_nodes': None, 'max_samples': None, 'min_impurity_decrease': 0.0, 'min_impurity_split': None, 'min_samples_leaf': 1, 'min_samples_split': 2, 'min_weight_fraction_leaf': 0.0, 'n_estimators': 100, 'n_jobs': None, 'oob_score': False, 'random_state': None, 'verbose': 0, 'warm_start': False}\n"
     ]
    }
   ],
   "source": [
    "print(rf.get_params())"
   ]
  },
  {
   "cell_type": "code",
   "execution_count": 124,
   "id": "416df3eb",
   "metadata": {},
   "outputs": [],
   "source": [
    "rft=RandomForestRegressor(n_estimators= 20,max_depth=2,random_state=42,warm_start=True,oob_score= True)"
   ]
  },
  {
   "cell_type": "code",
   "execution_count": 125,
   "id": "6e135bfc",
   "metadata": {},
   "outputs": [
    {
     "name": "stdout",
     "output_type": "stream",
     "text": [
      "0.25436919502706756\n"
     ]
    }
   ],
   "source": [
    "rft.fit(X_train,y_train)\n",
    "pred=rft.predict(X_test)\n",
    "print(metrics.r2_score(y_test,pred))"
   ]
  },
  {
   "cell_type": "code",
   "execution_count": 126,
   "id": "f0a85013",
   "metadata": {},
   "outputs": [],
   "source": [
    "eng_score=rft.predict(dftest)"
   ]
  },
  {
   "cell_type": "code",
   "execution_count": 127,
   "id": "d3af7da5",
   "metadata": {},
   "outputs": [
    {
     "data": {
      "text/plain": [
       "array([4.03254423, 4.03254423, 3.10725843, ..., 4.03254423, 3.53132931,\n",
       "       3.53132931])"
      ]
     },
     "execution_count": 127,
     "metadata": {},
     "output_type": "execute_result"
    }
   ],
   "source": [
    "eng_score"
   ]
  },
  {
   "cell_type": "code",
   "execution_count": 128,
   "id": "6de37553",
   "metadata": {},
   "outputs": [],
   "source": [
    "submit=pd.DataFrame({'row_id':test['row_id'],'engagement_score':eng_score})\n",
    "submit.set_index('row_id',inplace=True)"
   ]
  },
  {
   "cell_type": "code",
   "execution_count": 129,
   "id": "26175c14",
   "metadata": {},
   "outputs": [
    {
     "data": {
      "text/html": [
       "<div>\n",
       "<style scoped>\n",
       "    .dataframe tbody tr th:only-of-type {\n",
       "        vertical-align: middle;\n",
       "    }\n",
       "\n",
       "    .dataframe tbody tr th {\n",
       "        vertical-align: top;\n",
       "    }\n",
       "\n",
       "    .dataframe thead th {\n",
       "        text-align: right;\n",
       "    }\n",
       "</style>\n",
       "<table border=\"1\" class=\"dataframe\">\n",
       "  <thead>\n",
       "    <tr style=\"text-align: right;\">\n",
       "      <th></th>\n",
       "      <th>engagement_score</th>\n",
       "    </tr>\n",
       "    <tr>\n",
       "      <th>row_id</th>\n",
       "      <th></th>\n",
       "    </tr>\n",
       "  </thead>\n",
       "  <tbody>\n",
       "    <tr>\n",
       "      <th>89198</th>\n",
       "      <td>4.032544</td>\n",
       "    </tr>\n",
       "    <tr>\n",
       "      <th>89199</th>\n",
       "      <td>4.032544</td>\n",
       "    </tr>\n",
       "    <tr>\n",
       "      <th>89200</th>\n",
       "      <td>3.107258</td>\n",
       "    </tr>\n",
       "    <tr>\n",
       "      <th>89201</th>\n",
       "      <td>4.032544</td>\n",
       "    </tr>\n",
       "    <tr>\n",
       "      <th>89202</th>\n",
       "      <td>3.107258</td>\n",
       "    </tr>\n",
       "    <tr>\n",
       "      <th>...</th>\n",
       "      <td>...</td>\n",
       "    </tr>\n",
       "    <tr>\n",
       "      <th>100314</th>\n",
       "      <td>4.032544</td>\n",
       "    </tr>\n",
       "    <tr>\n",
       "      <th>100315</th>\n",
       "      <td>3.603021</td>\n",
       "    </tr>\n",
       "    <tr>\n",
       "      <th>100316</th>\n",
       "      <td>4.032544</td>\n",
       "    </tr>\n",
       "    <tr>\n",
       "      <th>100317</th>\n",
       "      <td>3.531329</td>\n",
       "    </tr>\n",
       "    <tr>\n",
       "      <th>100318</th>\n",
       "      <td>3.531329</td>\n",
       "    </tr>\n",
       "  </tbody>\n",
       "</table>\n",
       "<p>11121 rows × 1 columns</p>\n",
       "</div>"
      ],
      "text/plain": [
       "        engagement_score\n",
       "row_id                  \n",
       "89198           4.032544\n",
       "89199           4.032544\n",
       "89200           3.107258\n",
       "89201           4.032544\n",
       "89202           3.107258\n",
       "...                  ...\n",
       "100314          4.032544\n",
       "100315          3.603021\n",
       "100316          4.032544\n",
       "100317          3.531329\n",
       "100318          3.531329\n",
       "\n",
       "[11121 rows x 1 columns]"
      ]
     },
     "execution_count": 129,
     "metadata": {},
     "output_type": "execute_result"
    }
   ],
   "source": [
    "submit"
   ]
  },
  {
   "cell_type": "code",
   "execution_count": 130,
   "id": "a31de16f",
   "metadata": {},
   "outputs": [],
   "source": [
    "submit.to_csv(r'C:\\Users\\HP\\Downloads\\submission39.csv')"
   ]
  },
  {
   "cell_type": "code",
   "execution_count": null,
   "id": "3bfb6fea",
   "metadata": {},
   "outputs": [],
   "source": []
  }
 ],
 "metadata": {
  "kernelspec": {
   "display_name": "Python 3",
   "language": "python",
   "name": "python3"
  },
  "language_info": {
   "codemirror_mode": {
    "name": "ipython",
    "version": 3
   },
   "file_extension": ".py",
   "mimetype": "text/x-python",
   "name": "python",
   "nbconvert_exporter": "python",
   "pygments_lexer": "ipython3",
   "version": "3.8.8"
  }
 },
 "nbformat": 4,
 "nbformat_minor": 5
}
